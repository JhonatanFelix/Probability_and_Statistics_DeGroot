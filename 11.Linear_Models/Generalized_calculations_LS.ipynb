{
 "cells": [
  {
   "cell_type": "markdown",
   "metadata": {},
   "source": [
    "#### Calculating manually the Least Squares method using Matrix"
   ]
  },
  {
   "cell_type": "code",
   "execution_count": 1,
   "metadata": {},
   "outputs": [],
   "source": [
    "import numpy as np\n",
    "import matplotlib as plt\n",
    "import pandas as pd "
   ]
  },
  {
   "cell_type": "markdown",
   "metadata": {},
   "source": [
    "We need to have in mind that when that the formula provided in the file \"Multiple_LR_and_LS_estimators.pdf\" is\n",
    "$$\\hat{\\beta} = (X'X)^{-1}X'Y $$\n",
    "and is this formula that we are going to use to make our calculations\n",
    "\n",
    "PS: X' means the transpose of the matrix X"
   ]
  },
  {
   "cell_type": "code",
   "execution_count": 5,
   "metadata": {},
   "outputs": [],
   "source": [
    "def type_of_LS(X, type = \"linear\", degree = 1 ):\n",
    "    '''This function receives out data in the matrix X, and receives the type of Least Squares we want\n",
    "    (linear, polynomial) and the degree of the polynomial\n",
    "    '''\n",
    "    if type == \"linear\":\n",
    "        ones = np.ones((X.shape[0], 1))\n",
    "        X_new = np.hstack((ones, X))\n",
    "    if type == \"polynomial\":\n",
    "        ones = np.ones((X.shape[0],1))\n",
    "        X_new = np.hstack((ones,X))\n",
    "        for i in range(degree):\n",
    "\n",
    "\n",
    "    return 0\n",
    "\n"
   ]
  },
  {
   "cell_type": "code",
   "execution_count": 14,
   "metadata": {},
   "outputs": [
    {
     "data": {
      "text/plain": [
       "array([[1., 1., 2., 3.],\n",
       "       [1., 4., 5., 6.]])"
      ]
     },
     "execution_count": 14,
     "metadata": {},
     "output_type": "execute_result"
    }
   ],
   "source": [
    "y = np.array([np.array([1,2,3]), np.array([4,5,6])])\n",
    "ones = np.ones((y.shape[0], 1))\n",
    "\n",
    "ones\n",
    "\n",
    "np.hstack((ones,y))\n"
   ]
  }
 ],
 "metadata": {
  "kernelspec": {
   "display_name": "Python 3",
   "language": "python",
   "name": "python3"
  },
  "language_info": {
   "codemirror_mode": {
    "name": "ipython",
    "version": 3
   },
   "file_extension": ".py",
   "mimetype": "text/x-python",
   "name": "python",
   "nbconvert_exporter": "python",
   "pygments_lexer": "ipython3",
   "version": "3.9.13"
  }
 },
 "nbformat": 4,
 "nbformat_minor": 2
}
